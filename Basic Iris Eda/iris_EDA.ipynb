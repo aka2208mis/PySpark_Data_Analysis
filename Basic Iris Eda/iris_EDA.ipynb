{
  "nbformat": 4,
  "nbformat_minor": 0,
  "metadata": {
    "colab": {
      "provenance": []
    },
    "kernelspec": {
      "name": "python3",
      "display_name": "Python 3"
    },
    "language_info": {
      "name": "python"
    }
  },
  "cells": [
    {
      "cell_type": "code",
      "execution_count": 3,
      "metadata": {
        "id": "B2llS_-_xDGo"
      },
      "outputs": [],
      "source": [
        "from pyspark.sql import SparkSession\n",
        "spark = SparkSession.builder.appName(\"Iris Data Comparison\").getOrCreate()"
      ]
    },
    {
      "cell_type": "code",
      "source": [
        "import pandas as pd\n",
        "iris_csv_pd = pd.read_csv('/content/iris (1).csv')"
      ],
      "metadata": {
        "id": "c7nvIlrLyUtd"
      },
      "execution_count": 4,
      "outputs": []
    },
    {
      "cell_type": "code",
      "source": [
        "print(iris_csv_pd.head())"
      ],
      "metadata": {
        "colab": {
          "base_uri": "https://localhost:8080/"
        },
        "id": "Y8JfrArty9uU",
        "outputId": "158db862-d060-458d-a045-ff1a88a98d49"
      },
      "execution_count": 5,
      "outputs": [
        {
          "output_type": "stream",
          "name": "stdout",
          "text": [
            "   sepal.length  sepal.width  petal.length  petal.width variety\n",
            "0           5.1          3.5           1.4          0.2  Setosa\n",
            "1           4.9          3.0           1.4          0.2  Setosa\n",
            "2           4.7          3.2           1.3          0.2  Setosa\n",
            "3           4.6          3.1           1.5          0.2  Setosa\n",
            "4           5.0          3.6           1.4          0.2  Setosa\n"
          ]
        }
      ]
    },
    {
      "cell_type": "code",
      "source": [
        "print(iris_csv_pd.tail())"
      ],
      "metadata": {
        "colab": {
          "base_uri": "https://localhost:8080/"
        },
        "id": "HC0Ttbx8zDez",
        "outputId": "cfa15cbb-b151-4d77-869a-9f11a9cf07ea"
      },
      "execution_count": 6,
      "outputs": [
        {
          "output_type": "stream",
          "name": "stdout",
          "text": [
            "     sepal.length  sepal.width  petal.length  petal.width    variety\n",
            "145           6.7          3.0           5.2          2.3  Virginica\n",
            "146           6.3          2.5           5.0          1.9  Virginica\n",
            "147           6.5          3.0           5.2          2.0  Virginica\n",
            "148           6.2          3.4           5.4          2.3  Virginica\n",
            "149           5.9          3.0           5.1          1.8  Virginica\n"
          ]
        }
      ]
    },
    {
      "cell_type": "code",
      "source": [
        "#load dataset using spark\n",
        "iris_csv_spark = spark.read.csv('/content/iris (1).csv',header=True,inferSchema=True)"
      ],
      "metadata": {
        "id": "ONlYVgdOzL6C"
      },
      "execution_count": 8,
      "outputs": []
    },
    {
      "cell_type": "code",
      "source": [
        "print(iris_csv_spark.show(5))"
      ],
      "metadata": {
        "colab": {
          "base_uri": "https://localhost:8080/"
        },
        "id": "npB72p41zn_h",
        "outputId": "78d5572a-f789-4eca-9447-5ce12ff60d92"
      },
      "execution_count": 10,
      "outputs": [
        {
          "output_type": "stream",
          "name": "stdout",
          "text": [
            "+------------+-----------+------------+-----------+-------+\n",
            "|sepal.length|sepal.width|petal.length|petal.width|variety|\n",
            "+------------+-----------+------------+-----------+-------+\n",
            "|         5.1|        3.5|         1.4|        0.2| Setosa|\n",
            "|         4.9|        3.0|         1.4|        0.2| Setosa|\n",
            "|         4.7|        3.2|         1.3|        0.2| Setosa|\n",
            "|         4.6|        3.1|         1.5|        0.2| Setosa|\n",
            "|         5.0|        3.6|         1.4|        0.2| Setosa|\n",
            "+------------+-----------+------------+-----------+-------+\n",
            "only showing top 5 rows\n",
            "\n",
            "None\n"
          ]
        }
      ]
    },
    {
      "cell_type": "code",
      "source": [
        "iris_csv_spark.dtypes"
      ],
      "metadata": {
        "colab": {
          "base_uri": "https://localhost:8080/"
        },
        "id": "SYLa4Q5E06GL",
        "outputId": "316df8c8-a948-49a5-a8f1-0d550fe86382"
      },
      "execution_count": 11,
      "outputs": [
        {
          "output_type": "execute_result",
          "data": {
            "text/plain": [
              "[('sepal.length', 'double'),\n",
              " ('sepal.width', 'double'),\n",
              " ('petal.length', 'double'),\n",
              " ('petal.width', 'double'),\n",
              " ('variety', 'string')]"
            ]
          },
          "metadata": {},
          "execution_count": 11
        }
      ]
    },
    {
      "cell_type": "code",
      "source": [
        "iris_csv_spark.printSchema()"
      ],
      "metadata": {
        "colab": {
          "base_uri": "https://localhost:8080/"
        },
        "id": "yC7FVt5005wh",
        "outputId": "1acd1738-53c3-4689-8c53-089121893620"
      },
      "execution_count": 12,
      "outputs": [
        {
          "output_type": "stream",
          "name": "stdout",
          "text": [
            "root\n",
            " |-- sepal.length: double (nullable = true)\n",
            " |-- sepal.width: double (nullable = true)\n",
            " |-- petal.length: double (nullable = true)\n",
            " |-- petal.width: double (nullable = true)\n",
            " |-- variety: string (nullable = true)\n",
            "\n"
          ]
        }
      ]
    },
    {
      "cell_type": "code",
      "source": [
        "iris_csv_spark = iris_csv_spark.withColumnRenamed('sepal.width','sepal_width')\n",
        "iris_csv_spark = iris_csv_spark.withColumnRenamed('sepal.length','sepal_length')\n",
        "iris_csv_spark = iris_csv_spark.withColumnRenamed('petal.width','petal_width')\n",
        "iris_csv_spark = iris_csv_spark.withColumnRenamed('petal.length','petal_length')"
      ],
      "metadata": {
        "id": "CxcbUTol05Wd"
      },
      "execution_count": 13,
      "outputs": []
    },
    {
      "cell_type": "code",
      "source": [
        "print(iris_csv_spark.show(5))"
      ],
      "metadata": {
        "colab": {
          "base_uri": "https://localhost:8080/"
        },
        "id": "NmYg2Suy1w5Z",
        "outputId": "49e138f2-4b62-45c1-a876-12e09994ec34"
      },
      "execution_count": 14,
      "outputs": [
        {
          "output_type": "stream",
          "name": "stdout",
          "text": [
            "+------------+-----------+------------+-----------+-------+\n",
            "|sepal_length|sepal_width|petal_length|petal_width|variety|\n",
            "+------------+-----------+------------+-----------+-------+\n",
            "|         5.1|        3.5|         1.4|        0.2| Setosa|\n",
            "|         4.9|        3.0|         1.4|        0.2| Setosa|\n",
            "|         4.7|        3.2|         1.3|        0.2| Setosa|\n",
            "|         4.6|        3.1|         1.5|        0.2| Setosa|\n",
            "|         5.0|        3.6|         1.4|        0.2| Setosa|\n",
            "+------------+-----------+------------+-----------+-------+\n",
            "only showing top 5 rows\n",
            "\n",
            "None\n"
          ]
        }
      ]
    },
    {
      "cell_type": "code",
      "source": [
        "from pyspark.sql.functions import col,avg"
      ],
      "metadata": {
        "id": "LoLANxeH1wpw"
      },
      "execution_count": 16,
      "outputs": []
    },
    {
      "cell_type": "code",
      "source": [
        "avg_sw_spark = iris_csv_spark.select(avg(col('sepal_width'))).collect()[0][0]\n",
        "print(avg_sw_spark)"
      ],
      "metadata": {
        "colab": {
          "base_uri": "https://localhost:8080/"
        },
        "id": "UhtdwWLN2uXT",
        "outputId": "7ffc1290-e672-4a4b-bdf2-3ffcfed673b9"
      },
      "execution_count": 18,
      "outputs": [
        {
          "output_type": "stream",
          "name": "stdout",
          "text": [
            "3.057333333333334\n"
          ]
        }
      ]
    },
    {
      "cell_type": "code",
      "source": [
        "# filter rows where petal_length > 1.50\n",
        "filtered_spark = iris_csv_spark.filter(iris_csv_spark['petal_length'] > 1.50)\n",
        "print('filtered_spark rows:')\n",
        "filtered_spark.show()"
      ],
      "metadata": {
        "colab": {
          "base_uri": "https://localhost:8080/"
        },
        "id": "CO_nLEsW2uJ2",
        "outputId": "2951834e-5a14-483b-efa8-88ff058f2819"
      },
      "execution_count": 21,
      "outputs": [
        {
          "output_type": "stream",
          "name": "stdout",
          "text": [
            "filtered_spark rows:\n",
            "+------------+-----------+------------+-----------+----------+\n",
            "|sepal_length|sepal_width|petal_length|petal_width|   variety|\n",
            "+------------+-----------+------------+-----------+----------+\n",
            "|         5.4|        3.9|         1.7|        0.4|    Setosa|\n",
            "|         4.8|        3.4|         1.6|        0.2|    Setosa|\n",
            "|         5.7|        3.8|         1.7|        0.3|    Setosa|\n",
            "|         5.4|        3.4|         1.7|        0.2|    Setosa|\n",
            "|         5.1|        3.3|         1.7|        0.5|    Setosa|\n",
            "|         4.8|        3.4|         1.9|        0.2|    Setosa|\n",
            "|         5.0|        3.0|         1.6|        0.2|    Setosa|\n",
            "|         5.0|        3.4|         1.6|        0.4|    Setosa|\n",
            "|         4.7|        3.2|         1.6|        0.2|    Setosa|\n",
            "|         4.8|        3.1|         1.6|        0.2|    Setosa|\n",
            "|         5.0|        3.5|         1.6|        0.6|    Setosa|\n",
            "|         5.1|        3.8|         1.9|        0.4|    Setosa|\n",
            "|         5.1|        3.8|         1.6|        0.2|    Setosa|\n",
            "|         7.0|        3.2|         4.7|        1.4|Versicolor|\n",
            "|         6.4|        3.2|         4.5|        1.5|Versicolor|\n",
            "|         6.9|        3.1|         4.9|        1.5|Versicolor|\n",
            "|         5.5|        2.3|         4.0|        1.3|Versicolor|\n",
            "|         6.5|        2.8|         4.6|        1.5|Versicolor|\n",
            "|         5.7|        2.8|         4.5|        1.3|Versicolor|\n",
            "|         6.3|        3.3|         4.7|        1.6|Versicolor|\n",
            "+------------+-----------+------------+-----------+----------+\n",
            "only showing top 20 rows\n",
            "\n"
          ]
        }
      ]
    }
  ]
}