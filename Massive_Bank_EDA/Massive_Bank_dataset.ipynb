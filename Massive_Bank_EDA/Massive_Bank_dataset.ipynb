{
  "nbformat": 4,
  "nbformat_minor": 0,
  "metadata": {
    "colab": {
      "provenance": []
    },
    "kernelspec": {
      "name": "python3",
      "display_name": "Python 3"
    },
    "language_info": {
      "name": "python"
    }
  },
  "cells": [
    {
      "cell_type": "code",
      "source": [
        "from pyspark.sql import SparkSession\n",
        "spark = SparkSession.builder.appName(\"Bank_EDA\").getOrCreate()"
      ],
      "metadata": {
        "id": "AoOoggpW4iGi"
      },
      "execution_count": 40,
      "outputs": []
    },
    {
      "cell_type": "markdown",
      "source": [
        "Dataset Link - https://www.kaggle.com/datasets/ksabishek/massive-bank-dataset-1-million-rows/data"
      ],
      "metadata": {
        "id": "arCmJcjJHouI"
      }
    },
    {
      "cell_type": "code",
      "source": [
        "df = spark.read.csv(\"/content/bankdataset (2).csv\",header=True,inferSchema=True)\n",
        "df.printSchema()"
      ],
      "metadata": {
        "colab": {
          "base_uri": "https://localhost:8080/"
        },
        "id": "7BjaGF0n4iJw",
        "outputId": "62710b34-6527-46e6-830a-0d9ca6687cb1"
      },
      "execution_count": 9,
      "outputs": [
        {
          "output_type": "stream",
          "name": "stdout",
          "text": [
            "root\n",
            " |-- Date: string (nullable = true)\n",
            " |-- Domain: string (nullable = true)\n",
            " |-- Location: string (nullable = true)\n",
            " |-- Value: integer (nullable = true)\n",
            " |-- Transaction_count: integer (nullable = true)\n",
            "\n"
          ]
        }
      ]
    },
    {
      "cell_type": "code",
      "source": [
        "df.show(5)"
      ],
      "metadata": {
        "colab": {
          "base_uri": "https://localhost:8080/"
        },
        "id": "jQXNVoS34iMW",
        "outputId": "67668996-d257-46c8-fe9c-7d78b8d9b270"
      },
      "execution_count": 10,
      "outputs": [
        {
          "output_type": "stream",
          "name": "stdout",
          "text": [
            "+--------+-------------+--------+------+-----------------+\n",
            "|    Date|       Domain|Location| Value|Transaction_count|\n",
            "+--------+-------------+--------+------+-----------------+\n",
            "|1/1/2022|    RESTRAUNT|    Bhuj|365554|             1932|\n",
            "|1/1/2022|  INVESTMENTS|Ludhiana|847444|             1721|\n",
            "|1/1/2022|       RETAIL|     Goa|786941|             1573|\n",
            "|1/1/2022|INTERNATIONAL| Mathura|368610|             2049|\n",
            "|1/1/2022|    RESTRAUNT| Madurai|615681|             1519|\n",
            "+--------+-------------+--------+------+-----------------+\n",
            "only showing top 5 rows\n",
            "\n"
          ]
        }
      ]
    },
    {
      "cell_type": "code",
      "source": [
        "from pyspark.sql.functions import to_timestamp\n",
        "df = df.withColumn(\"Date\", to_timestamp(\"Date\",\"yyyy-MM-dd\"))\n",
        "df.printSchema()"
      ],
      "metadata": {
        "colab": {
          "base_uri": "https://localhost:8080/"
        },
        "id": "knYQ9wAf4iPS",
        "outputId": "aaf922b3-04be-4811-8bf5-fdb7c1173b54"
      },
      "execution_count": 14,
      "outputs": [
        {
          "output_type": "stream",
          "name": "stdout",
          "text": [
            "root\n",
            " |-- Date: timestamp (nullable = true)\n",
            " |-- Domain: string (nullable = true)\n",
            " |-- Location: string (nullable = true)\n",
            " |-- Value: integer (nullable = true)\n",
            " |-- Transaction_count: integer (nullable = true)\n",
            "\n"
          ]
        }
      ]
    },
    {
      "cell_type": "code",
      "source": [
        "print(\"Rows\",df.count())"
      ],
      "metadata": {
        "colab": {
          "base_uri": "https://localhost:8080/"
        },
        "id": "VYdzKgqk4iSA",
        "outputId": "ac8a504c-0d6f-441b-a23f-46b83e61a3a4"
      },
      "execution_count": 15,
      "outputs": [
        {
          "output_type": "stream",
          "name": "stdout",
          "text": [
            "Rows 43657\n"
          ]
        }
      ]
    },
    {
      "cell_type": "code",
      "source": [
        "print(\"columns:\",len(df.columns))"
      ],
      "metadata": {
        "colab": {
          "base_uri": "https://localhost:8080/"
        },
        "id": "0TaxU9R14iU3",
        "outputId": "9e5a48be-4793-48ef-f137-4ef163757b5b"
      },
      "execution_count": 18,
      "outputs": [
        {
          "output_type": "stream",
          "name": "stdout",
          "text": [
            "columns: 5\n"
          ]
        }
      ]
    },
    {
      "cell_type": "code",
      "source": [
        "from pyspark.sql.functions import col, sum as _sum\n",
        "\n",
        "# Count nulls per column\n",
        "null_counts = df.select([_sum(col(c).isNull().cast(\"int\")).alias(c) for c in df.columns])\n",
        "null_counts.show()\n"
      ],
      "metadata": {
        "colab": {
          "base_uri": "https://localhost:8080/"
        },
        "id": "4vwT5pDU4iYS",
        "outputId": "600cf826-6519-40b0-aeb5-317638e913fe"
      },
      "execution_count": 22,
      "outputs": [
        {
          "output_type": "stream",
          "name": "stdout",
          "text": [
            "+-----+------+--------+-----+-----------------+\n",
            "| Date|Domain|Location|Value|Transaction_count|\n",
            "+-----+------+--------+-----+-----------------+\n",
            "|43657|     0|       0|    0|                0|\n",
            "+-----+------+--------+-----+-----------------+\n",
            "\n"
          ]
        }
      ]
    },
    {
      "cell_type": "markdown",
      "source": [
        "## 1. Average transaction value everyday for each domain"
      ],
      "metadata": {
        "id": "-Sq71BLnCekb"
      }
    },
    {
      "cell_type": "code",
      "source": [
        "from pyspark.sql.functions import col, avg\n",
        "\n",
        "# Create average transaction value column\n",
        "df = df.withColumn(\"avg_txn_value\", col(\"Value\") / col(\"Transaction_count\"))\n",
        "\n",
        "# Group by Date and Domain, then calculate average transaction value per day per domain\n",
        "avg_txn_per_day_domain = df.groupBy(\"Domain\") \\\n",
        "    .agg(avg(\"avg_txn_value\").alias(\"avg_txn_per_domain_per_day\"))\n",
        "\n",
        "# Show first 10 rows\n",
        "avg_txn_per_day_domain.show(10)\n"
      ],
      "metadata": {
        "colab": {
          "base_uri": "https://localhost:8080/"
        },
        "id": "dUHQE_QVBZFk",
        "outputId": "ec5411f5-b094-4da1-b00d-5ad33be95625"
      },
      "execution_count": 26,
      "outputs": [
        {
          "output_type": "stream",
          "name": "stdout",
          "text": [
            "+-------------+--------------------------+\n",
            "|       Domain|avg_txn_per_domain_per_day|\n",
            "+-------------+--------------------------+\n",
            "|    RESTRAUNT|         650.6562440066156|\n",
            "|INTERNATIONAL|         641.6989564078532|\n",
            "|       PUBLIC|         642.6369965415066|\n",
            "|    EDUCATION|         643.9371916549254|\n",
            "|       RETAIL|         651.4989019538593|\n",
            "|      MEDICAL|         642.5644541697869|\n",
            "|  INVESTMENTS|         645.9478051443969|\n",
            "+-------------+--------------------------+\n",
            "\n"
          ]
        }
      ]
    },
    {
      "cell_type": "markdown",
      "source": [
        "## 2. Average transaction value for every city/location over the year"
      ],
      "metadata": {
        "id": "Ny_AJkJGELzt"
      }
    },
    {
      "cell_type": "code",
      "source": [
        "avg_txn_city = df.groupBy(\"Location\").agg(avg(\"avg_txn_value\").alias(\"avg_txn_value_city\"))\n",
        "avg_txn_city.orderBy(col(\"avg_txn_value_city\").desc()).show(10)\n"
      ],
      "metadata": {
        "colab": {
          "base_uri": "https://localhost:8080/"
        },
        "id": "gZG3QDxiBZCN",
        "outputId": "7d6a68f4-7a05-49b1-b9f8-ae4c252f7047"
      },
      "execution_count": 29,
      "outputs": [
        {
          "output_type": "stream",
          "name": "stdout",
          "text": [
            "+---------+------------------+\n",
            "| Location|avg_txn_value_city|\n",
            "+---------+------------------+\n",
            "|   Indore| 682.4368136909374|\n",
            "|   Ranchi| 674.8052161118887|\n",
            "|   Bokaro| 673.2261078200953|\n",
            "|     Durg| 672.5964656677794|\n",
            "|     Pune| 671.6561895018799|\n",
            "|      Ara| 665.2182578274602|\n",
            "| Banglore| 663.9856216770412|\n",
            "| Tirumala| 662.0739833220692|\n",
            "|  Lucknow| 660.8307536158907|\n",
            "|Ahmedabad| 659.3983456906452|\n",
            "+---------+------------------+\n",
            "only showing top 10 rows\n",
            "\n"
          ]
        }
      ]
    },
    {
      "cell_type": "markdown",
      "source": [
        "## 3. Priority list of domains (highest active domain)"
      ],
      "metadata": {
        "id": "VYRc5jnyE9CA"
      }
    },
    {
      "cell_type": "code",
      "source": [
        "domain_priority = df.groupBy(\"Domain\") \\\n",
        "    .agg({\"Transaction_count\": \"sum\"}) \\\n",
        "    .withColumnRenamed(\"sum(Transaction_count)\", \"total_transactions\") \\\n",
        "    .orderBy(col(\"total_transactions\").desc())\n",
        "\n",
        "domain_priority.show()\n",
        "\n"
      ],
      "metadata": {
        "colab": {
          "base_uri": "https://localhost:8080/"
        },
        "id": "L0Mksd6NBY_R",
        "outputId": "c195a8f5-1d38-49e8-8400-f28d7ddbba41"
      },
      "execution_count": 31,
      "outputs": [
        {
          "output_type": "stream",
          "name": "stdout",
          "text": [
            "+-------------+------------------+\n",
            "|       Domain|total_transactions|\n",
            "+-------------+------------------+\n",
            "|  INVESTMENTS|           9325343|\n",
            "|    EDUCATION|           9301767|\n",
            "|       PUBLIC|           9277890|\n",
            "|INTERNATIONAL|           9267914|\n",
            "|      MEDICAL|           9237933|\n",
            "|       RETAIL|           9120659|\n",
            "|    RESTRAUNT|           8855386|\n",
            "+-------------+------------------+\n",
            "\n"
          ]
        }
      ]
    },
    {
      "cell_type": "markdown",
      "source": [
        "## 4. Average transaction count for each city"
      ],
      "metadata": {
        "id": "y2o09K3UFr1x"
      }
    },
    {
      "cell_type": "code",
      "source": [
        "avg_txn_count_city = df.groupBy(\"Location\") \\\n",
        "    .agg(avg(\"Transaction_count\").alias(\"avg_txn_count_city\"))\n",
        "\n",
        "avg_txn_count_city.orderBy(col(\"avg_txn_count_city\").desc()).show(10)\n"
      ],
      "metadata": {
        "colab": {
          "base_uri": "https://localhost:8080/"
        },
        "id": "E-I3e7dTBY8m",
        "outputId": "ef43ee56-a447-43bb-c24b-2ec36fe50571"
      },
      "execution_count": 32,
      "outputs": [
        {
          "output_type": "stream",
          "name": "stdout",
          "text": [
            "+--------+------------------+\n",
            "|Location|avg_txn_count_city|\n",
            "+--------+------------------+\n",
            "|     Mon|1531.6782608695653|\n",
            "|Varanasi|1519.4668117519043|\n",
            "|   Betul| 1515.156146179402|\n",
            "|    Doda|1510.3884210526317|\n",
            "| Bikaner|1501.3649946638207|\n",
            "|   Surat|1499.6604747162023|\n",
            "|  Konark|1498.6164383561643|\n",
            "|  Bombay| 1498.396017699115|\n",
            "|     Goa|1496.2648592283629|\n",
            "|  Kannur|1495.9818181818182|\n",
            "+--------+------------------+\n",
            "only showing top 10 rows\n",
            "\n"
          ]
        }
      ]
    },
    {
      "cell_type": "markdown",
      "source": [
        "## 5) Visualization"
      ],
      "metadata": {
        "id": "ewqXzO_qGAbM"
      }
    },
    {
      "cell_type": "code",
      "source": [
        "pandas_df = domain_priority.toPandas()\n",
        "\n",
        "import matplotlib.pyplot as plt\n",
        "\n",
        "plt.figure(figsize=(10,8))\n",
        "bars = plt.barh(pandas_df[\"Domain\"], pandas_df[\"total_transactions\"], color='skyblue')\n",
        "plt.xlabel(\"Total Transactions\")\n",
        "plt.ylabel(\"Domain\")\n",
        "plt.title(\"Domain Activity Priority - Horizontal Bar Chart\")\n",
        "plt.gca().invert_yaxis()  # highest value on top\n",
        "\n",
        "# Add value labels on bars\n",
        "for bar in bars:\n",
        "    width = bar.get_width()\n",
        "    plt.text(width + 500, bar.get_y() + bar.get_height()/2, f'{int(width):,}', va='center')\n",
        "\n",
        "plt.tight_layout()\n",
        "plt.show()\n"
      ],
      "metadata": {
        "colab": {
          "base_uri": "https://localhost:8080/",
          "height": 492
        },
        "id": "T2p0vcZbGD_c",
        "outputId": "b96a2b0c-1428-489d-cffb-cac016413039"
      },
      "execution_count": 39,
      "outputs": [
        {
          "output_type": "display_data",
          "data": {
            "text/plain": [
              "<Figure size 1000x800 with 1 Axes>"
            ],
            "image/png": "[encoded data removed]"
          },
          "metadata": {}
        }
      ]
    }
  ]
}