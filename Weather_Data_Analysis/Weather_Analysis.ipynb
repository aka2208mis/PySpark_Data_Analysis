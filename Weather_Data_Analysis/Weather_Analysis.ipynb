{
  "nbformat": 4,
  "nbformat_minor": 0,
  "metadata": {
    "colab": {
      "provenance": []
    },
    "kernelspec": {
      "name": "python3",
      "display_name": "Python 3"
    },
    "language_info": {
      "name": "python"
    }
  },
  "cells": [
    {
      "cell_type": "code",
      "execution_count": 2,
      "metadata": {
        "id": "fFv3ciCen4Hr"
      },
      "outputs": [],
      "source": [
        "from pyspark.sql import SparkSession\n",
        "from pyspark.sql.functions import col, avg, max as spark_max, count, desc"
      ]
    },
    {
      "cell_type": "code",
      "source": [
        "spark = SparkSession.builder.appName(\"WeatherAnalysis\").getOrCreate()"
      ],
      "metadata": {
        "id": "g-7twcinoWJl"
      },
      "execution_count": 3,
      "outputs": []
    },
    {
      "cell_type": "code",
      "source": [
        "file_path = \"/content/Weather Dataset - CSV(in).csv\"\n",
        "df = spark.read.csv(file_path, header=True, inferSchema=True)"
      ],
      "metadata": {
        "id": "pFSrKweFo590"
      },
      "execution_count": 4,
      "outputs": []
    },
    {
      "cell_type": "code",
      "source": [
        "df.show(5)"
      ],
      "metadata": {
        "colab": {
          "base_uri": "https://localhost:8080/"
        },
        "id": "FacsluuappA_",
        "outputId": "cabb2de5-3678-4f2c-98de-92087034fb35"
      },
      "execution_count": 6,
      "outputs": [
        {
          "output_type": "stream",
          "name": "stdout",
          "text": [
            "+-------+-------+--------+-----------+--------+-----------+-------------+----------+----------+------------+------------+-----------+-----------+-----------+-----------+--------+--------+-------+-------+---------+-------+------------+\n",
            "|MinTemp|MaxTemp|Rainfall|Evaporation|Sunshine|WindGustDir|WindGustSpeed|WindDir9am|WindDir3pm|WindSpeed9am|WindSpeed3pm|Humidity9am|Humidity3pm|Pressure9am|Pressure3pm|Cloud9am|Cloud3pm|Temp9am|Temp3pm|RainToday|RISK_MM|RainTomorrow|\n",
            "+-------+-------+--------+-----------+--------+-----------+-------------+----------+----------+------------+------------+-----------+-----------+-----------+-----------+--------+--------+-------+-------+---------+-------+------------+\n",
            "|    8.0|   24.3|     0.0|        3.4|     6.3|         NW|           30|        SW|        NW|           6|          20|         68|         29|     1019.7|     1015.0|       7|       7|   14.4|   23.6|       No|    3.6|         Yes|\n",
            "|   14.0|   26.9|     3.6|        4.4|     9.7|        ENE|           39|         E|         W|           4|          17|         80|         36|     1012.4|     1008.4|       5|       3|   17.5|   25.7|      Yes|    3.6|         Yes|\n",
            "|   13.7|   23.4|     3.6|        5.8|     3.3|         NW|           85|         N|       NNE|           6|           6|         82|         69|     1009.5|     1007.2|       8|       7|   15.4|   20.2|      Yes|   39.8|         Yes|\n",
            "|   13.3|   15.5|    39.8|        7.2|     9.1|         NW|           54|       WNW|         W|          30|          24|         62|         56|     1005.5|     1007.0|       2|       7|   13.5|   14.1|      Yes|    2.8|         Yes|\n",
            "|    7.6|   16.1|     2.8|        5.6|    10.6|        SSE|           50|       SSE|       ESE|          20|          28|         68|         49|     1018.3|     1018.5|       7|       7|   11.1|   15.4|      Yes|    0.0|          No|\n",
            "+-------+-------+--------+-----------+--------+-----------+-------------+----------+----------+------------+------------+-----------+-----------+-----------+-----------+--------+--------+-------+-------+---------+-------+------------+\n",
            "only showing top 5 rows\n",
            "\n"
          ]
        }
      ]
    },
    {
      "cell_type": "code",
      "source": [
        "df.head(5)"
      ],
      "metadata": {
        "colab": {
          "base_uri": "https://localhost:8080/"
        },
        "id": "Vd74C44rpwWV",
        "outputId": "7788bcf6-143b-4950-c069-3179132ac979"
      },
      "execution_count": 7,
      "outputs": [
        {
          "output_type": "execute_result",
          "data": {
            "text/plain": [
              "[Row(MinTemp=8.0, MaxTemp=24.3, Rainfall=0.0, Evaporation=3.4, Sunshine='6.3', WindGustDir='NW', WindGustSpeed='30', WindDir9am='SW', WindDir3pm='NW', WindSpeed9am='6', WindSpeed3pm=20, Humidity9am=68, Humidity3pm=29, Pressure9am=1019.7, Pressure3pm=1015.0, Cloud9am=7, Cloud3pm=7, Temp9am=14.4, Temp3pm=23.6, RainToday='No', RISK_MM=3.6, RainTomorrow='Yes'),\n",
              " Row(MinTemp=14.0, MaxTemp=26.9, Rainfall=3.6, Evaporation=4.4, Sunshine='9.7', WindGustDir='ENE', WindGustSpeed='39', WindDir9am='E', WindDir3pm='W', WindSpeed9am='4', WindSpeed3pm=17, Humidity9am=80, Humidity3pm=36, Pressure9am=1012.4, Pressure3pm=1008.4, Cloud9am=5, Cloud3pm=3, Temp9am=17.5, Temp3pm=25.7, RainToday='Yes', RISK_MM=3.6, RainTomorrow='Yes'),\n",
              " Row(MinTemp=13.7, MaxTemp=23.4, Rainfall=3.6, Evaporation=5.8, Sunshine='3.3', WindGustDir='NW', WindGustSpeed='85', WindDir9am='N', WindDir3pm='NNE', WindSpeed9am='6', WindSpeed3pm=6, Humidity9am=82, Humidity3pm=69, Pressure9am=1009.5, Pressure3pm=1007.2, Cloud9am=8, Cloud3pm=7, Temp9am=15.4, Temp3pm=20.2, RainToday='Yes', RISK_MM=39.8, RainTomorrow='Yes'),\n",
              " Row(MinTemp=13.3, MaxTemp=15.5, Rainfall=39.8, Evaporation=7.2, Sunshine='9.1', WindGustDir='NW', WindGustSpeed='54', WindDir9am='WNW', WindDir3pm='W', WindSpeed9am='30', WindSpeed3pm=24, Humidity9am=62, Humidity3pm=56, Pressure9am=1005.5, Pressure3pm=1007.0, Cloud9am=2, Cloud3pm=7, Temp9am=13.5, Temp3pm=14.1, RainToday='Yes', RISK_MM=2.8, RainTomorrow='Yes'),\n",
              " Row(MinTemp=7.6, MaxTemp=16.1, Rainfall=2.8, Evaporation=5.6, Sunshine='10.6', WindGustDir='SSE', WindGustSpeed='50', WindDir9am='SSE', WindDir3pm='ESE', WindSpeed9am='20', WindSpeed3pm=28, Humidity9am=68, Humidity3pm=49, Pressure9am=1018.3, Pressure3pm=1018.5, Cloud9am=7, Cloud3pm=7, Temp9am=11.1, Temp3pm=15.4, RainToday='Yes', RISK_MM=0.0, RainTomorrow='No')]"
            ]
          },
          "metadata": {},
          "execution_count": 7
        }
      ]
    },
    {
      "cell_type": "code",
      "source": [
        "df.printSchema()"
      ],
      "metadata": {
        "colab": {
          "base_uri": "https://localhost:8080/"
        },
        "id": "Dtt1g5wepzwK",
        "outputId": "b16bc659-6081-4e26-ae37-f62ac62231e3"
      },
      "execution_count": 10,
      "outputs": [
        {
          "output_type": "stream",
          "name": "stdout",
          "text": [
            "root\n",
            " |-- MinTemp: double (nullable = true)\n",
            " |-- MaxTemp: double (nullable = true)\n",
            " |-- Rainfall: double (nullable = true)\n",
            " |-- Evaporation: double (nullable = true)\n",
            " |-- Sunshine: string (nullable = true)\n",
            " |-- WindGustDir: string (nullable = true)\n",
            " |-- WindGustSpeed: string (nullable = true)\n",
            " |-- WindDir9am: string (nullable = true)\n",
            " |-- WindDir3pm: string (nullable = true)\n",
            " |-- WindSpeed9am: string (nullable = true)\n",
            " |-- WindSpeed3pm: integer (nullable = true)\n",
            " |-- Humidity9am: integer (nullable = true)\n",
            " |-- Humidity3pm: integer (nullable = true)\n",
            " |-- Pressure9am: double (nullable = true)\n",
            " |-- Pressure3pm: double (nullable = true)\n",
            " |-- Cloud9am: integer (nullable = true)\n",
            " |-- Cloud3pm: integer (nullable = true)\n",
            " |-- Temp9am: double (nullable = true)\n",
            " |-- Temp3pm: double (nullable = true)\n",
            " |-- RainToday: string (nullable = true)\n",
            " |-- RISK_MM: double (nullable = true)\n",
            " |-- RainTomorrow: string (nullable = true)\n",
            "\n"
          ]
        }
      ]
    },
    {
      "cell_type": "code",
      "source": [
        "df.describe().show()"
      ],
      "metadata": {
        "colab": {
          "base_uri": "https://localhost:8080/"
        },
        "id": "z6rQkrndqAbM",
        "outputId": "93e7fa80-4372-4cf0-8699-b214a691008a"
      },
      "execution_count": 11,
      "outputs": [
        {
          "output_type": "stream",
          "name": "stdout",
          "text": [
            "+-------+-----------------+-----------------+------------------+-----------------+-----------------+-----------+------------------+----------+----------+-----------------+-----------------+------------------+------------------+------------------+------------------+-----------------+------------------+------------------+------------------+---------+------------------+------------+\n",
            "|summary|          MinTemp|          MaxTemp|          Rainfall|      Evaporation|         Sunshine|WindGustDir|     WindGustSpeed|WindDir9am|WindDir3pm|     WindSpeed9am|     WindSpeed3pm|       Humidity9am|       Humidity3pm|       Pressure9am|       Pressure3pm|         Cloud9am|          Cloud3pm|           Temp9am|           Temp3pm|RainToday|           RISK_MM|RainTomorrow|\n",
            "+-------+-----------------+-----------------+------------------+-----------------+-----------------+-----------+------------------+----------+----------+-----------------+-----------------+------------------+------------------+------------------+------------------+-----------------+------------------+------------------+------------------+---------+------------------+------------+\n",
            "|  count|              366|              366|               366|              366|              366|        366|               366|       366|       366|              366|              366|               366|               366|               366|               366|              366|               366|               366|               366|      366|               366|         366|\n",
            "|   mean|7.265573770491811|20.55027322404372|1.4284153005464482|4.521857923497269|7.909366391184575|       NULL| 39.84065934065934|      NULL|      NULL|9.651810584958218|17.98633879781421| 72.03551912568307| 44.51912568306011|1019.7090163934431|1016.8103825136616|3.890710382513661| 4.024590163934426|12.358469945355191|19.230874316939893|     NULL|1.4284153005464482|        NULL|\n",
            "| stddev|6.025799834253392|6.690515669598577| 4.225799585804054|2.669382534221264|3.481517162405925|       NULL|13.059807144421072|      NULL|      NULL| 7.95192895384049|8.856996567838884|13.137058140203427|16.850947383652542|6.6862115828948685| 6.469422397297394|2.956130576805563|2.6662675612711007|  5.63083213470543|6.6403459887203145|     NULL| 4.225799585804054|        NULL|\n",
            "|    min|             -5.3|              7.6|               0.0|              0.2|                0|          E|                13|         E|         E|                0|                0|                36|                13|             996.5|             996.8|                0|                 0|               0.1|               5.1|       No|               0.0|          No|\n",
            "|    max|             20.9|             35.8|              39.8|             13.8|               NA|        WSW|                NA|       WSW|       WSW|               NA|               52|                99|                96|            1035.7|            1033.2|                8|                 8|              24.7|              34.5|      Yes|              39.8|         Yes|\n",
            "+-------+-----------------+-----------------+------------------+-----------------+-----------------+-----------+------------------+----------+----------+-----------------+-----------------+------------------+------------------+------------------+------------------+-----------------+------------------+------------------+------------------+---------+------------------+------------+\n",
            "\n"
          ]
        }
      ]
    },
    {
      "cell_type": "markdown",
      "source": [
        "##  Task 1: Number of days when it rained the next day"
      ],
      "metadata": {
        "id": "rF6YyUdQpQWt"
      }
    },
    {
      "cell_type": "code",
      "source": [
        "def task1(df):\n",
        "  return df.filter(col(\"RainTomorrow\") == \"Yes\").count()\n",
        "\n",
        "print(\"Task 1 → Days when it rained tomorrow:\", task1(df))"
      ],
      "metadata": {
        "colab": {
          "base_uri": "https://localhost:8080/"
        },
        "id": "wDpf26UxpSCX",
        "outputId": "7458ccb6-b6cf-4a45-a1b4-4676fe4ca2c2"
      },
      "execution_count": 12,
      "outputs": [
        {
          "output_type": "stream",
          "name": "stdout",
          "text": [
            "Task 1 → Days when it rained tomorrow: 66\n"
          ]
        }
      ]
    },
    {
      "cell_type": "markdown",
      "source": [
        "## Task 2: Average sunshine duration on days with no rainfall"
      ],
      "metadata": {
        "id": "KlyCAyb6qMtY"
      }
    },
    {
      "cell_type": "code",
      "source": [
        "def task2(df):\n",
        "  return df.filter(col(\"Rainfall\") == 0).agg(avg(\"Sunshine\")).first()[0]\n",
        "print(\"Task 2 → Avg sunshine on no-rainfall days:\", task2(df))"
      ],
      "metadata": {
        "colab": {
          "base_uri": "https://localhost:8080/"
        },
        "id": "b4ZrRpAMqTCK",
        "outputId": "cdbd484c-8464-4c83-8594-86199532a2d3"
      },
      "execution_count": 13,
      "outputs": [
        {
          "output_type": "stream",
          "name": "stdout",
          "text": [
            "Task 2 → Avg sunshine on no-rainfall days: 8.472030651341\n"
          ]
        }
      ]
    },
    {
      "cell_type": "markdown",
      "source": [
        "## Task 3: Maximum temperature recorded at 3 PM"
      ],
      "metadata": {
        "id": "ieoUVkwxrBYY"
      }
    },
    {
      "cell_type": "code",
      "source": [
        "def task3(df):\n",
        "    return df.agg(spark_max(\"Temp3pm\")).first()[0]\n",
        "print(\"Task 3 → Max Temp at 3pm:\", task3(df))"
      ],
      "metadata": {
        "colab": {
          "base_uri": "https://localhost:8080/"
        },
        "id": "fReIxlVgrHTY",
        "outputId": "5caeacb3-ce2f-4685-d839-7f4ec2ae967b"
      },
      "execution_count": 14,
      "outputs": [
        {
          "output_type": "stream",
          "name": "stdout",
          "text": [
            "Task 3 → Max Temp at 3pm: 34.5\n"
          ]
        }
      ]
    },
    {
      "cell_type": "markdown",
      "source": [
        "## Task 4: Average humidity at 3 PM on days it rained the next day"
      ],
      "metadata": {
        "id": "jSkTImNerNYi"
      }
    },
    {
      "cell_type": "code",
      "source": [
        "def task4(df):\n",
        "    return df.filter(col(\"RainTomorrow\") == \"Yes\").agg(avg(\"Humidity3pm\")).first()[0]\n",
        "print(\"Task 4 → Avg Humidity at 3pm on rainy-tomorrow days:\", task4(df))"
      ],
      "metadata": {
        "colab": {
          "base_uri": "https://localhost:8080/"
        },
        "id": "d_BLPbcbrHxU",
        "outputId": "d8ba4cd0-2f15-4369-f073-ec5f0cc3ba96"
      },
      "execution_count": 16,
      "outputs": [
        {
          "output_type": "stream",
          "name": "stdout",
          "text": [
            "Task 4 → Avg Humidity at 3pm on rainy-tomorrow days: 57.68181818181818\n"
          ]
        }
      ]
    },
    {
      "cell_type": "markdown",
      "source": [
        "## Task 5: Most common wind direction at 9 AM on cloudy days (Cloud9am > 5)"
      ],
      "metadata": {
        "id": "0KLpLLBQrcyJ"
      }
    },
    {
      "cell_type": "code",
      "source": [
        "def task5(df):\n",
        "    return (df.filter(col(\"Cloud9am\") > 5)\n",
        "              .groupBy(\"WindDir9am\")\n",
        "              .count()\n",
        "              .orderBy(desc(\"count\"))\n",
        "              .first()[0])\n",
        "print(\"Task 5 → Most common WindDir9am on cloudy days:\", task5(df))"
      ],
      "metadata": {
        "colab": {
          "base_uri": "https://localhost:8080/"
        },
        "id": "GjWqRQQ-rgOX",
        "outputId": "f5026d2a-a9d8-4cb2-fb94-2b160f30a68e"
      },
      "execution_count": 17,
      "outputs": [
        {
          "output_type": "stream",
          "name": "stdout",
          "text": [
            "Task 5 → Most common WindDir9am on cloudy days: SSE\n"
          ]
        }
      ]
    }
  ]
}