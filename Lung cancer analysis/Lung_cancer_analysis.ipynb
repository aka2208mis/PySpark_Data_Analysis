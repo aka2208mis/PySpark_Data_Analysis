{
  "nbformat": 4,
  "nbformat_minor": 0,
  "metadata": {
    "colab": {
      "provenance": []
    },
    "kernelspec": {
      "name": "python3",
      "display_name": "Python 3"
    },
    "language_info": {
      "name": "python"
    }
  },
  "cells": [
    {
      "cell_type": "code",
      "source": [
        "from pyspark.sql import SparkSession\n",
        "import pyspark.sql.functions as F\n",
        "from pyspark.sql.window import Window\n",
        "\n",
        "spark = SparkSession.builder.appName(\"LungCancerEDA\").getOrCreate()\n",
        "\n",
        "df = spark.read.csv(\"/content/Lung Cancer.csv\", header=True, inferSchema=True)\n",
        "\n",
        "# Standardize column names\n",
        "df = df.toDF(*[c.lower().replace(\" \", \"_\") for c in df.columns])\n"
      ],
      "metadata": {
        "id": "Avq0Bk_Ap4LJ"
      },
      "execution_count": null,
      "outputs": []
    },
    {
      "cell_type": "markdown",
      "source": [
        "## 1. How many rows and columns are in the dataset?"
      ],
      "metadata": {
        "id": "-xWxpk3mqtHA"
      }
    },
    {
      "cell_type": "code",
      "source": [
        "print(f\"Rows: {df.count()}, Columns: {len(df.columns)}\")\n"
      ],
      "metadata": {
        "colab": {
          "base_uri": "https://localhost:8080/"
        },
        "id": "HLgiuEQcp4OQ",
        "outputId": "53c58065-6b10-49b5-cd47-8972fda0dcc2"
      },
      "execution_count": null,
      "outputs": [
        {
          "output_type": "stream",
          "name": "stdout",
          "text": [
            "Rows: 890000, Columns: 17\n"
          ]
        }
      ]
    },
    {
      "cell_type": "markdown",
      "source": [
        "## 2. Gender distribution of patients"
      ],
      "metadata": {
        "id": "0CijXLzMq0Qk"
      }
    },
    {
      "cell_type": "markdown",
      "source": [],
      "metadata": {
        "id": "UbdzrYVtqz8_"
      }
    },
    {
      "cell_type": "code",
      "source": [
        "df.groupBy(\"gender\").count().orderBy(\"count\", ascending=False).show()\n"
      ],
      "metadata": {
        "colab": {
          "base_uri": "https://localhost:8080/"
        },
        "id": "T8bj9lKAp4Rf",
        "outputId": "fdac48d3-9350-4d38-d2b8-1a8dfefddb8e"
      },
      "execution_count": null,
      "outputs": [
        {
          "output_type": "stream",
          "name": "stdout",
          "text": [
            "+------+------+\n",
            "|gender| count|\n",
            "+------+------+\n",
            "|  Male|445134|\n",
            "|Female|444866|\n",
            "+------+------+\n",
            "\n"
          ]
        }
      ]
    },
    {
      "cell_type": "markdown",
      "source": [
        "## 3. Average and median age of patients"
      ],
      "metadata": {
        "id": "d3az3GPFq36W"
      }
    },
    {
      "cell_type": "code",
      "source": [
        "df.select(\n",
        "    F.round(F.avg(\"age\"),2).alias(\"avg_age\"),\n",
        "    F.expr(\"percentile(age, 0.5)\").alias(\"median_age\")\n",
        ").show()\n"
      ],
      "metadata": {
        "colab": {
          "base_uri": "https://localhost:8080/"
        },
        "id": "Tab1zp3rp4Ux",
        "outputId": "b503eb35-54dd-4ed1-c66a-76fdfb4e3872"
      },
      "execution_count": null,
      "outputs": [
        {
          "output_type": "stream",
          "name": "stdout",
          "text": [
            "+-------+----------+\n",
            "|avg_age|median_age|\n",
            "+-------+----------+\n",
            "|  55.01|      55.0|\n",
            "+-------+----------+\n",
            "\n"
          ]
        }
      ]
    },
    {
      "cell_type": "markdown",
      "source": [
        "## 4. Cancer stage distribution"
      ],
      "metadata": {
        "id": "CzVuIlxsq-qD"
      }
    },
    {
      "cell_type": "code",
      "source": [
        "df.groupBy(\"cancer_stage\").count().orderBy(\"cancer_stage\").show()\n"
      ],
      "metadata": {
        "colab": {
          "base_uri": "https://localhost:8080/"
        },
        "id": "k1qQGwUvp4Xw",
        "outputId": "f17b7f68-abc1-49da-e60f-33cedd25ed34"
      },
      "execution_count": null,
      "outputs": [
        {
          "output_type": "stream",
          "name": "stdout",
          "text": [
            "+------------+------+\n",
            "|cancer_stage| count|\n",
            "+------------+------+\n",
            "|     Stage I|222516|\n",
            "|    Stage II|222363|\n",
            "|   Stage III|222594|\n",
            "|    Stage IV|222527|\n",
            "+------------+------+\n",
            "\n"
          ]
        }
      ]
    },
    {
      "cell_type": "markdown",
      "source": [
        "## 5. Family history vs Lung Cancer survival."
      ],
      "metadata": {
        "id": "S6lPqKZGrG1A"
      }
    },
    {
      "cell_type": "code",
      "source": [
        "df.groupBy(\"family_history\",\"survived\").count().orderBy(\"family_history\").show()\n"
      ],
      "metadata": {
        "colab": {
          "base_uri": "https://localhost:8080/"
        },
        "id": "lIUtTdd4p4ay",
        "outputId": "fdb47233-721c-4d55-c3e0-964c190bd840"
      },
      "execution_count": null,
      "outputs": [
        {
          "output_type": "stream",
          "name": "stdout",
          "text": [
            "+--------------+--------+------+\n",
            "|family_history|survived| count|\n",
            "+--------------+--------+------+\n",
            "|            No|       1| 97798|\n",
            "|            No|       0|347383|\n",
            "|           Yes|       0|346613|\n",
            "|           Yes|       1| 98206|\n",
            "+--------------+--------+------+\n",
            "\n"
          ]
        }
      ]
    },
    {
      "cell_type": "markdown",
      "source": [
        "## 6. Smoking status vs Cancer stage"
      ],
      "metadata": {
        "id": "TwkmfOk6rQPj"
      }
    },
    {
      "cell_type": "code",
      "source": [
        "df.groupBy(\"smoking_status\",\"cancer_stage\").count().orderBy(\"smoking_status\").show()\n"
      ],
      "metadata": {
        "colab": {
          "base_uri": "https://localhost:8080/"
        },
        "id": "8INVtVvyp4d9",
        "outputId": "0e7507b8-3fc2-42b3-fb15-d04993bfc894"
      },
      "execution_count": null,
      "outputs": [
        {
          "output_type": "stream",
          "name": "stdout",
          "text": [
            "+--------------+------------+-----+\n",
            "|smoking_status|cancer_stage|count|\n",
            "+--------------+------------+-----+\n",
            "|Current Smoker|    Stage IV|55181|\n",
            "|Current Smoker|     Stage I|55578|\n",
            "|Current Smoker|   Stage III|55710|\n",
            "|Current Smoker|    Stage II|55429|\n",
            "| Former Smoker|    Stage IV|55556|\n",
            "| Former Smoker|   Stage III|55440|\n",
            "| Former Smoker|    Stage II|55699|\n",
            "| Former Smoker|     Stage I|55486|\n",
            "|  Never Smoked|    Stage IV|55942|\n",
            "|  Never Smoked|    Stage II|55466|\n",
            "|  Never Smoked|   Stage III|55578|\n",
            "|  Never Smoked|     Stage I|55765|\n",
            "|Passive Smoker|     Stage I|55687|\n",
            "|Passive Smoker|    Stage IV|55848|\n",
            "|Passive Smoker|    Stage II|55769|\n",
            "|Passive Smoker|   Stage III|55866|\n",
            "+--------------+------------+-----+\n",
            "\n"
          ]
        }
      ]
    },
    {
      "cell_type": "markdown",
      "source": [
        "## 7. Average BMI & Cholesterol by survival outcome"
      ],
      "metadata": {
        "id": "KV1cp67GrYBR"
      }
    },
    {
      "cell_type": "code",
      "source": [
        "df.groupBy(\"survived\").agg(\n",
        "    F.round(F.avg(\"bmi\"),2).alias(\"avg_bmi\"),\n",
        "    F.round(F.avg(\"cholesterol_level\"),2).alias(\"avg_cholesterol\")\n",
        ").show()\n"
      ],
      "metadata": {
        "colab": {
          "base_uri": "https://localhost:8080/"
        },
        "id": "K7o2o4eKp4g8",
        "outputId": "e86a137f-4451-4587-9862-09cb55be683b"
      },
      "execution_count": null,
      "outputs": [
        {
          "output_type": "stream",
          "name": "stdout",
          "text": [
            "+--------+-------+---------------+\n",
            "|survived|avg_bmi|avg_cholesterol|\n",
            "+--------+-------+---------------+\n",
            "|       1|  30.49|         233.65|\n",
            "|       0|  30.49|         233.63|\n",
            "+--------+-------+---------------+\n",
            "\n"
          ]
        }
      ]
    },
    {
      "cell_type": "markdown",
      "source": [
        "## 8. Comorbidities analysis (Hypertension, Asthma, Cirrhosis, Other Cancer) prevalence"
      ],
      "metadata": {
        "id": "ZcL14dDmroIc"
      }
    },
    {
      "cell_type": "code",
      "source": [
        "comorbidities = [\"hypertension\",\"asthma\",\"cirrhosis\",\"other_cancer\"]\n",
        "\n",
        "comorbidity_counts = [(c, df.filter(F.col(c)==\"YES\").count()) for c in comorbidities]\n",
        "spark.createDataFrame(comorbidity_counts, [\"condition\",\"count\"]).show()\n"
      ],
      "metadata": {
        "colab": {
          "base_uri": "https://localhost:8080/"
        },
        "id": "q68j9ijDp4j9",
        "outputId": "c95443a1-9cb8-4e4e-fc97-4a96eee52744"
      },
      "execution_count": null,
      "outputs": [
        {
          "output_type": "stream",
          "name": "stdout",
          "text": [
            "+------------+-----+\n",
            "|   condition|count|\n",
            "+------------+-----+\n",
            "|hypertension|    0|\n",
            "|      asthma|    0|\n",
            "|   cirrhosis|    0|\n",
            "|other_cancer|    0|\n",
            "+------------+-----+\n",
            "\n"
          ]
        }
      ]
    },
    {
      "cell_type": "markdown",
      "source": [
        "## 9. Treatment types vs Survival Rate"
      ],
      "metadata": {
        "id": "pDt_5cj9rwPy"
      }
    },
    {
      "cell_type": "code",
      "source": [
        "df.groupBy(\"treatment_type\",\"survived\").count().orderBy(\"treatment_type\").show()\n"
      ],
      "metadata": {
        "colab": {
          "base_uri": "https://localhost:8080/"
        },
        "id": "2s1qx78Xp4m1",
        "outputId": "dba2dd89-f55f-4387-d66a-1c030a7e50c9"
      },
      "execution_count": null,
      "outputs": [
        {
          "output_type": "stream",
          "name": "stdout",
          "text": [
            "+--------------+--------+------+\n",
            "|treatment_type|survived| count|\n",
            "+--------------+--------+------+\n",
            "|  Chemotherapy|       1| 48836|\n",
            "|  Chemotherapy|       0|174426|\n",
            "|      Combined|       0|173607|\n",
            "|      Combined|       1| 49002|\n",
            "|     Radiation|       1| 48714|\n",
            "|     Radiation|       0|172154|\n",
            "|       Surgery|       1| 49452|\n",
            "|       Surgery|       0|173809|\n",
            "+--------------+--------+------+\n",
            "\n"
          ]
        }
      ]
    },
    {
      "cell_type": "markdown",
      "source": [
        "## 10. Survival trend over time (by diagnosis year)"
      ],
      "metadata": {
        "id": "SEcBzAakr2rk"
      }
    },
    {
      "cell_type": "code",
      "source": [
        "df = df.withColumn(\"year\", F.year(\"diagnosis_date\"))\n",
        "df.groupBy(\"year\",\"survived\").count().orderBy(\"year\").show()\n"
      ],
      "metadata": {
        "colab": {
          "base_uri": "https://localhost:8080/"
        },
        "id": "EJ2ViIC0p4px",
        "outputId": "f6354f77-3511-4af0-c6df-b1050be5b7b1"
      },
      "execution_count": null,
      "outputs": [
        {
          "output_type": "stream",
          "name": "stdout",
          "text": [
            "+----+--------+-----+\n",
            "|year|survived|count|\n",
            "+----+--------+-----+\n",
            "|2014|       0|40382|\n",
            "|2014|       1|11387|\n",
            "|2015|       0|69343|\n",
            "|2015|       1|19657|\n",
            "|2016|       0|69558|\n",
            "|2016|       1|19694|\n",
            "|2017|       0|69317|\n",
            "|2017|       1|19531|\n",
            "|2018|       1|19391|\n",
            "|2018|       0|69095|\n",
            "|2019|       1|19488|\n",
            "|2019|       0|69990|\n",
            "|2020|       1|19761|\n",
            "|2020|       0|69424|\n",
            "|2021|       0|69309|\n",
            "|2021|       1|19730|\n",
            "|2022|       0|69370|\n",
            "|2022|       1|19561|\n",
            "|2023|       0|69133|\n",
            "|2023|       1|19714|\n",
            "+----+--------+-----+\n",
            "only showing top 20 rows\n",
            "\n"
          ]
        }
      ]
    },
    {
      "cell_type": "code",
      "source": [],
      "metadata": {
        "id": "99KLXY3rp4s9"
      },
      "execution_count": null,
      "outputs": []
    },
    {
      "cell_type": "code",
      "source": [],
      "metadata": {
        "id": "OD9TabBop4wK"
      },
      "execution_count": null,
      "outputs": []
    },
    {
      "cell_type": "code",
      "source": [],
      "metadata": {
        "id": "MvMEtet4p4y9"
      },
      "execution_count": null,
      "outputs": []
    },
    {
      "cell_type": "code",
      "source": [],
      "metadata": {
        "id": "0FaagplHp418"
      },
      "execution_count": null,
      "outputs": []
    },
    {
      "cell_type": "code",
      "source": [],
      "metadata": {
        "id": "fKvUCImLp44-"
      },
      "execution_count": null,
      "outputs": []
    },
    {
      "cell_type": "code",
      "source": [],
      "metadata": {
        "id": "w1WH1iLQp471"
      },
      "execution_count": null,
      "outputs": []
    },
    {
      "cell_type": "code",
      "source": [],
      "metadata": {
        "id": "RH04JdYMp4_B"
      },
      "execution_count": null,
      "outputs": []
    },
    {
      "cell_type": "code",
      "source": [],
      "metadata": {
        "id": "rmGrktL0p5B-"
      },
      "execution_count": null,
      "outputs": []
    },
    {
      "cell_type": "code",
      "source": [],
      "metadata": {
        "id": "Xvwad0pKp5E-"
      },
      "execution_count": null,
      "outputs": []
    },
    {
      "cell_type": "code",
      "source": [],
      "metadata": {
        "id": "vleQNBhop5H3"
      },
      "execution_count": null,
      "outputs": []
    },
    {
      "cell_type": "code",
      "source": [],
      "metadata": {
        "id": "Y07NYW6ap5Ku"
      },
      "execution_count": null,
      "outputs": []
    },
    {
      "cell_type": "code",
      "source": [],
      "metadata": {
        "id": "ImMosHs0p5OO"
      },
      "execution_count": null,
      "outputs": []
    }
  ]
}